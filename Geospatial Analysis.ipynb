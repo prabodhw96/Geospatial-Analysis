{
 "cells": [
  {
   "cell_type": "markdown",
   "metadata": {},
   "source": [
    "# Intro to Geospatial Data using Python"
   ]
  },
  {
   "cell_type": "code",
   "execution_count": 1,
   "metadata": {},
   "outputs": [],
   "source": [
    "import numpy as np\n",
    "import pandas as pd\n",
    "import matplotlib.pyplot as plt"
   ]
  },
  {
   "cell_type": "markdown",
   "metadata": {},
   "source": [
    "## Reading the Data\n",
    "The geopandas library can read almost any vector-based spatial data format including ESRI shapefile and GeoJSON files.\n",
    "<br>\n",
    "**NOTE:** This might take some time."
   ]
  },
  {
   "cell_type": "code",
   "execution_count": 2,
   "metadata": {},
   "outputs": [
    {
     "name": "stdout",
     "output_type": "stream",
     "text": [
      "<class 'geopandas.geodataframe.GeoDataFrame'>\n",
      "RangeIndex: 427762 entries, 0 to 427761\n",
      "Data columns (total 70 columns):\n",
      "Shape_Leng    427762 non-null float64\n",
      "COUNTY_ID     427762 non-null object\n",
      "PIN           427762 non-null object\n",
      "BLDG_NUM      427762 non-null object\n",
      "PREFIX_DIR    0 non-null object\n",
      "PREFIXTYPE    0 non-null object\n",
      "STREETNAME    427762 non-null object\n",
      "STREETTYPE    0 non-null object\n",
      "SUFFIX_DIR    0 non-null object\n",
      "UNIT_INFO     51470 non-null object\n",
      "CITY          427762 non-null object\n",
      "CITY_USPS     414475 non-null object\n",
      "ZIP           427762 non-null object\n",
      "ZIP4          0 non-null object\n",
      "PLAT_NAME     426333 non-null object\n",
      "BLOCK         305269 non-null object\n",
      "LOT           290705 non-null object\n",
      "ACRES_POLY    427762 non-null float64\n",
      "ACRES_DEED    427762 non-null float64\n",
      "USE1_DESC     426337 non-null object\n",
      "USE2_DESC     4398 non-null object\n",
      "USE3_DESC     752 non-null object\n",
      "USE4_DESC     207 non-null object\n",
      "MULTI_USES    0 non-null object\n",
      "LANDMARK      0 non-null object\n",
      "OWNER_NAME    426336 non-null object\n",
      "OWNER_MORE    0 non-null object\n",
      "OWN_ADD_L1    0 non-null object\n",
      "OWN_ADD_L2    0 non-null object\n",
      "OWN_ADD_L3    0 non-null object\n",
      "TAX_NAME      426337 non-null object\n",
      "TAX_ADD_L1    426189 non-null object\n",
      "TAX_ADD_L2    426071 non-null object\n",
      "TAX_ADD_L3    62165 non-null object\n",
      "HOMESTEAD     426337 non-null object\n",
      "EMV_LAND      427762 non-null float64\n",
      "EMV_BLDG      427762 non-null float64\n",
      "EMV_TOTAL     427762 non-null float64\n",
      "TAX_CAPAC     427762 non-null float64\n",
      "TOTAL_TAX     427762 non-null float64\n",
      "SPEC_ASSES    427762 non-null float64\n",
      "TAX_EXEMPT    427762 non-null object\n",
      "XUSE1_DESC    17641 non-null object\n",
      "XUSE2_DESC    1341 non-null object\n",
      "XUSE3_DESC    250 non-null object\n",
      "XUSE4_DESC    36 non-null object\n",
      "DWELL_TYPE    0 non-null object\n",
      "HOME_STYLE    152400 non-null object\n",
      "FIN_SQ_FT     427762 non-null float64\n",
      "GARAGE        157514 non-null object\n",
      "GARAGESQFT    157514 non-null object\n",
      "BASEMENT      111420 non-null object\n",
      "HEATING       156532 non-null object\n",
      "COOLING       157514 non-null object\n",
      "YEAR_BUILT    427762 non-null int64\n",
      "NUM_UNITS     0 non-null object\n",
      "SALE_DATE     331140 non-null object\n",
      "SALE_VALUE    427762 non-null float64\n",
      "SCHOOL_DST    426337 non-null object\n",
      "WSHD_DIST     350447 non-null object\n",
      "GREEN_ACRE    427762 non-null object\n",
      "OPEN_SPACE    427762 non-null object\n",
      "AG_PRESERV    427762 non-null object\n",
      "AGPRE_ENRD    0 non-null object\n",
      "AGPRE_EXPD    0 non-null object\n",
      "PARC_CODE     427762 non-null int64\n",
      "TORRENS       427762 non-null object\n",
      "Shape_Le_1    427762 non-null float64\n",
      "Shape_Area    427762 non-null float64\n",
      "geometry      427762 non-null object\n",
      "dtypes: float64(13), int64(2), object(55)\n",
      "memory usage: 228.4+ MB\n"
     ]
    }
   ],
   "source": [
    "import geopandas as gpd\n",
    "\n",
    "hennepin = gpd.read_file('data/MetroGIS_Tax_Parcels_2014/Parcels2014Hennepin.dbf')\n",
    "hennepin.info()"
   ]
  },
  {
   "cell_type": "markdown",
   "metadata": {},
   "source": [
    "## Exploring Data\n",
    "The dataset is using lots of memory. Let's check to make sure that all of the PIN values are unique and let's make sure to count NULL values in that list."
   ]
  },
  {
   "cell_type": "code",
   "execution_count": 3,
   "metadata": {},
   "outputs": [
    {
     "data": {
      "text/plain": [
       "1.0"
      ]
     },
     "execution_count": 3,
     "metadata": {},
     "output_type": "execute_result"
    }
   ],
   "source": [
    "hennepin['PIN'].nunique(dropna=True) / len(hennepin['PIN'])"
   ]
  },
  {
   "cell_type": "markdown",
   "metadata": {},
   "source": [
    "They are all unique. Now set the index so that we can traverse faster."
   ]
  },
  {
   "cell_type": "code",
   "execution_count": 4,
   "metadata": {},
   "outputs": [],
   "source": [
    "hennepin = hennepin.set_index(['PIN']).sort_index()"
   ]
  },
  {
   "cell_type": "markdown",
   "metadata": {},
   "source": [
    "Now let us try to reduce memory usage by the data."
   ]
  },
  {
   "cell_type": "markdown",
   "metadata": {},
   "source": [
    "A lot of the fields are ``object`` type, which defaults to ``str`` on import. ``str`` is a not efficient, it contains a ton of additional methods like ``len()``, ``replace()``, etc. Additionally, they take up more space in memory as noted above.\n",
    "\n",
    "Let's find how many object columns there are."
   ]
  },
  {
   "cell_type": "code",
   "execution_count": 5,
   "metadata": {},
   "outputs": [
    {
     "data": {
      "text/plain": [
       "54"
      ]
     },
     "execution_count": 5,
     "metadata": {},
     "output_type": "execute_result"
    }
   ],
   "source": [
    "column_list = list(hennepin.select_dtypes(include=['object']).columns.values)\n",
    "len(column_list)"
   ]
  },
  {
   "cell_type": "markdown",
   "metadata": {},
   "source": [
    "I don't really want to go through each of the 54 columns so let's create a function that looks for columns where the number of unique values is less than 20% of the total row count. Data that has this property is said to have 'low cardinality'.\n",
    "\n",
    "If we find a column that has low cardinality, let's convert them to ``category`` type."
   ]
  },
  {
   "cell_type": "code",
   "execution_count": 6,
   "metadata": {},
   "outputs": [],
   "source": [
    "def convert_to_categorical(df, cols):\n",
    "    for col in cols:\n",
    "        unique_vals = len(df[col].unique())\n",
    "        unique_ratio = unique_vals / len(df)\n",
    "        if unique_ratio <= 0.2:\n",
    "            df[col] = df[col].astype('category')\n",
    "    return df"
   ]
  },
  {
   "cell_type": "code",
   "execution_count": 7,
   "metadata": {},
   "outputs": [
    {
     "ename": "TypeError",
     "evalue": "unhashable type: 'Polygon'",
     "output_type": "error",
     "traceback": [
      "\u001b[0;31m\u001b[0m",
      "\u001b[0;31mTypeError\u001b[0mTraceback (most recent call last)",
      "\u001b[0;32m<ipython-input-7-230b57e5bc1b>\u001b[0m in \u001b[0;36m<module>\u001b[0;34m\u001b[0m\n\u001b[0;32m----> 1\u001b[0;31m \u001b[0mhennepin\u001b[0m \u001b[0;34m=\u001b[0m \u001b[0mconvert_to_categorical\u001b[0m\u001b[0;34m(\u001b[0m\u001b[0mhennepin\u001b[0m\u001b[0;34m,\u001b[0m \u001b[0mcolumn_list\u001b[0m\u001b[0;34m)\u001b[0m\u001b[0;34m\u001b[0m\u001b[0;34m\u001b[0m\u001b[0m\n\u001b[0m",
      "\u001b[0;32m<ipython-input-6-f2562d960599>\u001b[0m in \u001b[0;36mconvert_to_categorical\u001b[0;34m(df, cols)\u001b[0m\n\u001b[1;32m      1\u001b[0m \u001b[0;32mdef\u001b[0m \u001b[0mconvert_to_categorical\u001b[0m\u001b[0;34m(\u001b[0m\u001b[0mdf\u001b[0m\u001b[0;34m,\u001b[0m \u001b[0mcols\u001b[0m\u001b[0;34m)\u001b[0m\u001b[0;34m:\u001b[0m\u001b[0;34m\u001b[0m\u001b[0;34m\u001b[0m\u001b[0m\n\u001b[1;32m      2\u001b[0m     \u001b[0;32mfor\u001b[0m \u001b[0mcol\u001b[0m \u001b[0;32min\u001b[0m \u001b[0mcols\u001b[0m\u001b[0;34m:\u001b[0m\u001b[0;34m\u001b[0m\u001b[0;34m\u001b[0m\u001b[0m\n\u001b[0;32m----> 3\u001b[0;31m         \u001b[0munique_vals\u001b[0m \u001b[0;34m=\u001b[0m \u001b[0mlen\u001b[0m\u001b[0;34m(\u001b[0m\u001b[0mdf\u001b[0m\u001b[0;34m[\u001b[0m\u001b[0mcol\u001b[0m\u001b[0;34m]\u001b[0m\u001b[0;34m.\u001b[0m\u001b[0munique\u001b[0m\u001b[0;34m(\u001b[0m\u001b[0;34m)\u001b[0m\u001b[0;34m)\u001b[0m\u001b[0;34m\u001b[0m\u001b[0;34m\u001b[0m\u001b[0m\n\u001b[0m\u001b[1;32m      4\u001b[0m         \u001b[0munique_ratio\u001b[0m \u001b[0;34m=\u001b[0m \u001b[0munique_vals\u001b[0m \u001b[0;34m/\u001b[0m \u001b[0mlen\u001b[0m\u001b[0;34m(\u001b[0m\u001b[0mdf\u001b[0m\u001b[0;34m)\u001b[0m\u001b[0;34m\u001b[0m\u001b[0;34m\u001b[0m\u001b[0m\n\u001b[1;32m      5\u001b[0m         \u001b[0;32mif\u001b[0m \u001b[0munique_ratio\u001b[0m \u001b[0;34m<=\u001b[0m \u001b[0;36m0.2\u001b[0m\u001b[0;34m:\u001b[0m\u001b[0;34m\u001b[0m\u001b[0;34m\u001b[0m\u001b[0m\n",
      "\u001b[0;32m/usr/local/lib/python3.6/dist-packages/pandas/core/series.py\u001b[0m in \u001b[0;36munique\u001b[0;34m(self)\u001b[0m\n\u001b[1;32m   1982\u001b[0m         \u001b[0mCategories\u001b[0m \u001b[0;34m(\u001b[0m\u001b[0;36m3\u001b[0m\u001b[0;34m,\u001b[0m \u001b[0mobject\u001b[0m\u001b[0;34m)\u001b[0m\u001b[0;34m:\u001b[0m \u001b[0;34m[\u001b[0m\u001b[0ma\u001b[0m \u001b[0;34m<\u001b[0m \u001b[0mb\u001b[0m \u001b[0;34m<\u001b[0m \u001b[0mc\u001b[0m\u001b[0;34m]\u001b[0m\u001b[0;34m\u001b[0m\u001b[0;34m\u001b[0m\u001b[0m\n\u001b[1;32m   1983\u001b[0m         \"\"\"\n\u001b[0;32m-> 1984\u001b[0;31m         \u001b[0mresult\u001b[0m \u001b[0;34m=\u001b[0m \u001b[0msuper\u001b[0m\u001b[0;34m(\u001b[0m\u001b[0;34m)\u001b[0m\u001b[0;34m.\u001b[0m\u001b[0munique\u001b[0m\u001b[0;34m(\u001b[0m\u001b[0;34m)\u001b[0m\u001b[0;34m\u001b[0m\u001b[0;34m\u001b[0m\u001b[0m\n\u001b[0m\u001b[1;32m   1985\u001b[0m         \u001b[0;32mreturn\u001b[0m \u001b[0mresult\u001b[0m\u001b[0;34m\u001b[0m\u001b[0;34m\u001b[0m\u001b[0m\n\u001b[1;32m   1986\u001b[0m \u001b[0;34m\u001b[0m\u001b[0m\n",
      "\u001b[0;32m/usr/local/lib/python3.6/dist-packages/pandas/core/base.py\u001b[0m in \u001b[0;36munique\u001b[0;34m(self)\u001b[0m\n\u001b[1;32m   1403\u001b[0m             \u001b[0;32mfrom\u001b[0m \u001b[0mpandas\u001b[0m\u001b[0;34m.\u001b[0m\u001b[0mcore\u001b[0m\u001b[0;34m.\u001b[0m\u001b[0malgorithms\u001b[0m \u001b[0;32mimport\u001b[0m \u001b[0munique1d\u001b[0m\u001b[0;34m\u001b[0m\u001b[0;34m\u001b[0m\u001b[0m\n\u001b[1;32m   1404\u001b[0m \u001b[0;34m\u001b[0m\u001b[0m\n\u001b[0;32m-> 1405\u001b[0;31m             \u001b[0mresult\u001b[0m \u001b[0;34m=\u001b[0m \u001b[0munique1d\u001b[0m\u001b[0;34m(\u001b[0m\u001b[0mvalues\u001b[0m\u001b[0;34m)\u001b[0m\u001b[0;34m\u001b[0m\u001b[0;34m\u001b[0m\u001b[0m\n\u001b[0m\u001b[1;32m   1406\u001b[0m \u001b[0;34m\u001b[0m\u001b[0m\n\u001b[1;32m   1407\u001b[0m         \u001b[0;32mreturn\u001b[0m \u001b[0mresult\u001b[0m\u001b[0;34m\u001b[0m\u001b[0;34m\u001b[0m\u001b[0m\n",
      "\u001b[0;32m/usr/local/lib/python3.6/dist-packages/pandas/core/algorithms.py\u001b[0m in \u001b[0;36munique\u001b[0;34m(values)\u001b[0m\n\u001b[1;32m    403\u001b[0m \u001b[0;34m\u001b[0m\u001b[0m\n\u001b[1;32m    404\u001b[0m     \u001b[0mtable\u001b[0m \u001b[0;34m=\u001b[0m \u001b[0mhtable\u001b[0m\u001b[0;34m(\u001b[0m\u001b[0mlen\u001b[0m\u001b[0;34m(\u001b[0m\u001b[0mvalues\u001b[0m\u001b[0;34m)\u001b[0m\u001b[0;34m)\u001b[0m\u001b[0;34m\u001b[0m\u001b[0;34m\u001b[0m\u001b[0m\n\u001b[0;32m--> 405\u001b[0;31m     \u001b[0muniques\u001b[0m \u001b[0;34m=\u001b[0m \u001b[0mtable\u001b[0m\u001b[0;34m.\u001b[0m\u001b[0munique\u001b[0m\u001b[0;34m(\u001b[0m\u001b[0mvalues\u001b[0m\u001b[0;34m)\u001b[0m\u001b[0;34m\u001b[0m\u001b[0;34m\u001b[0m\u001b[0m\n\u001b[0m\u001b[1;32m    406\u001b[0m     \u001b[0muniques\u001b[0m \u001b[0;34m=\u001b[0m \u001b[0m_reconstruct_data\u001b[0m\u001b[0;34m(\u001b[0m\u001b[0muniques\u001b[0m\u001b[0;34m,\u001b[0m \u001b[0mdtype\u001b[0m\u001b[0;34m,\u001b[0m \u001b[0moriginal\u001b[0m\u001b[0;34m)\u001b[0m\u001b[0;34m\u001b[0m\u001b[0;34m\u001b[0m\u001b[0m\n\u001b[1;32m    407\u001b[0m     \u001b[0;32mreturn\u001b[0m \u001b[0muniques\u001b[0m\u001b[0;34m\u001b[0m\u001b[0;34m\u001b[0m\u001b[0m\n",
      "\u001b[0;32mpandas/_libs/hashtable_class_helper.pxi\u001b[0m in \u001b[0;36mpandas._libs.hashtable.PyObjectHashTable.unique\u001b[0;34m()\u001b[0m\n",
      "\u001b[0;32mpandas/_libs/hashtable_class_helper.pxi\u001b[0m in \u001b[0;36mpandas._libs.hashtable.PyObjectHashTable._unique\u001b[0;34m()\u001b[0m\n",
      "\u001b[0;31mTypeError\u001b[0m: unhashable type: 'Polygon'"
     ]
    }
   ],
   "source": [
    "hennepin = convert_to_categorical(hennepin, column_list)"
   ]
  },
  {
   "cell_type": "code",
   "execution_count": 8,
   "metadata": {},
   "outputs": [
    {
     "data": {
      "text/html": [
       "<div>\n",
       "<style scoped>\n",
       "    .dataframe tbody tr th:only-of-type {\n",
       "        vertical-align: middle;\n",
       "    }\n",
       "\n",
       "    .dataframe tbody tr th {\n",
       "        vertical-align: top;\n",
       "    }\n",
       "\n",
       "    .dataframe thead th {\n",
       "        text-align: right;\n",
       "    }\n",
       "</style>\n",
       "<table border=\"1\" class=\"dataframe\">\n",
       "  <thead>\n",
       "    <tr style=\"text-align: right;\">\n",
       "      <th></th>\n",
       "      <th>Shape_Leng</th>\n",
       "      <th>COUNTY_ID</th>\n",
       "      <th>BLDG_NUM</th>\n",
       "      <th>PREFIX_DIR</th>\n",
       "      <th>PREFIXTYPE</th>\n",
       "      <th>STREETNAME</th>\n",
       "      <th>STREETTYPE</th>\n",
       "      <th>SUFFIX_DIR</th>\n",
       "      <th>UNIT_INFO</th>\n",
       "      <th>CITY</th>\n",
       "      <th>...</th>\n",
       "      <th>GREEN_ACRE</th>\n",
       "      <th>OPEN_SPACE</th>\n",
       "      <th>AG_PRESERV</th>\n",
       "      <th>AGPRE_ENRD</th>\n",
       "      <th>AGPRE_EXPD</th>\n",
       "      <th>PARC_CODE</th>\n",
       "      <th>TORRENS</th>\n",
       "      <th>Shape_Le_1</th>\n",
       "      <th>Shape_Area</th>\n",
       "      <th>geometry</th>\n",
       "    </tr>\n",
       "    <tr>\n",
       "      <th>PIN</th>\n",
       "      <th></th>\n",
       "      <th></th>\n",
       "      <th></th>\n",
       "      <th></th>\n",
       "      <th></th>\n",
       "      <th></th>\n",
       "      <th></th>\n",
       "      <th></th>\n",
       "      <th></th>\n",
       "      <th></th>\n",
       "      <th></th>\n",
       "      <th></th>\n",
       "      <th></th>\n",
       "      <th></th>\n",
       "      <th></th>\n",
       "      <th></th>\n",
       "      <th></th>\n",
       "      <th></th>\n",
       "      <th></th>\n",
       "      <th></th>\n",
       "      <th></th>\n",
       "    </tr>\n",
       "  </thead>\n",
       "  <tbody>\n",
       "    <tr>\n",
       "      <th>053-0102724110003</th>\n",
       "      <td>1298.619232</td>\n",
       "      <td>053</td>\n",
       "      <td>2901</td>\n",
       "      <td>NaN</td>\n",
       "      <td>NaN</td>\n",
       "      <td>78TH ST E</td>\n",
       "      <td>NaN</td>\n",
       "      <td>NaN</td>\n",
       "      <td>NaN</td>\n",
       "      <td>BLOOMINGTON</td>\n",
       "      <td>...</td>\n",
       "      <td>N</td>\n",
       "      <td>N</td>\n",
       "      <td>N</td>\n",
       "      <td>NaN</td>\n",
       "      <td>NaN</td>\n",
       "      <td>0</td>\n",
       "      <td>T</td>\n",
       "      <td>395.645416</td>\n",
       "      <td>7416.662441</td>\n",
       "      <td>POLYGON ((481758.6119 4967622.9012, 481758.294...</td>\n",
       "    </tr>\n",
       "    <tr>\n",
       "      <th>053-0102724110004</th>\n",
       "      <td>1388.057469</td>\n",
       "      <td>053</td>\n",
       "      <td>7800</td>\n",
       "      <td>NaN</td>\n",
       "      <td>NaN</td>\n",
       "      <td>METRO PKWY</td>\n",
       "      <td>NaN</td>\n",
       "      <td>NaN</td>\n",
       "      <td>NaN</td>\n",
       "      <td>BLOOMINGTON</td>\n",
       "      <td>...</td>\n",
       "      <td>N</td>\n",
       "      <td>N</td>\n",
       "      <td>N</td>\n",
       "      <td>NaN</td>\n",
       "      <td>NaN</td>\n",
       "      <td>0</td>\n",
       "      <td>T</td>\n",
       "      <td>422.894044</td>\n",
       "      <td>7676.706709</td>\n",
       "      <td>POLYGON ((481827.7642 4967621.7611, 481887.776...</td>\n",
       "    </tr>\n",
       "    <tr>\n",
       "      <th>053-0102724110005</th>\n",
       "      <td>1400.082610</td>\n",
       "      <td>053</td>\n",
       "      <td>7850</td>\n",
       "      <td>NaN</td>\n",
       "      <td>NaN</td>\n",
       "      <td>METRO PKWY</td>\n",
       "      <td>NaN</td>\n",
       "      <td>NaN</td>\n",
       "      <td>NaN</td>\n",
       "      <td>BLOOMINGTON</td>\n",
       "      <td>...</td>\n",
       "      <td>N</td>\n",
       "      <td>N</td>\n",
       "      <td>N</td>\n",
       "      <td>NaN</td>\n",
       "      <td>NaN</td>\n",
       "      <td>0</td>\n",
       "      <td>B</td>\n",
       "      <td>426.557685</td>\n",
       "      <td>6399.614332</td>\n",
       "      <td>POLYGON ((481827.4471 4967582.1543, 481827.105...</td>\n",
       "    </tr>\n",
       "    <tr>\n",
       "      <th>053-0102724110006</th>\n",
       "      <td>1383.510634</td>\n",
       "      <td>053</td>\n",
       "      <td>2950</td>\n",
       "      <td>NaN</td>\n",
       "      <td>NaN</td>\n",
       "      <td>METRO DR</td>\n",
       "      <td>NaN</td>\n",
       "      <td>NaN</td>\n",
       "      <td>NaN</td>\n",
       "      <td>BLOOMINGTON</td>\n",
       "      <td>...</td>\n",
       "      <td>N</td>\n",
       "      <td>N</td>\n",
       "      <td>N</td>\n",
       "      <td>NaN</td>\n",
       "      <td>NaN</td>\n",
       "      <td>0</td>\n",
       "      <td>B</td>\n",
       "      <td>421.502025</td>\n",
       "      <td>7184.857320</td>\n",
       "      <td>POLYGON ((481799.116 4967582.6214, 481798.5232...</td>\n",
       "    </tr>\n",
       "    <tr>\n",
       "      <th>053-0102724110008</th>\n",
       "      <td>1388.369487</td>\n",
       "      <td>053</td>\n",
       "      <td>7801</td>\n",
       "      <td>NaN</td>\n",
       "      <td>NaN</td>\n",
       "      <td>METRO PKWY</td>\n",
       "      <td>NaN</td>\n",
       "      <td>NaN</td>\n",
       "      <td>NaN</td>\n",
       "      <td>BLOOMINGTON</td>\n",
       "      <td>...</td>\n",
       "      <td>N</td>\n",
       "      <td>N</td>\n",
       "      <td>N</td>\n",
       "      <td>NaN</td>\n",
       "      <td>NaN</td>\n",
       "      <td>0</td>\n",
       "      <td>T</td>\n",
       "      <td>422.989308</td>\n",
       "      <td>7681.696608</td>\n",
       "      <td>POLYGON ((482035.2701 4967618.3399, 482035.265...</td>\n",
       "    </tr>\n",
       "  </tbody>\n",
       "</table>\n",
       "<p>5 rows × 69 columns</p>\n",
       "</div>"
      ],
      "text/plain": [
       "                    Shape_Leng COUNTY_ID BLDG_NUM PREFIX_DIR PREFIXTYPE  \\\n",
       "PIN                                                                       \n",
       "053-0102724110003  1298.619232       053     2901        NaN        NaN   \n",
       "053-0102724110004  1388.057469       053     7800        NaN        NaN   \n",
       "053-0102724110005  1400.082610       053     7850        NaN        NaN   \n",
       "053-0102724110006  1383.510634       053     2950        NaN        NaN   \n",
       "053-0102724110008  1388.369487       053     7801        NaN        NaN   \n",
       "\n",
       "                   STREETNAME STREETTYPE SUFFIX_DIR UNIT_INFO         CITY  \\\n",
       "PIN                                                                          \n",
       "053-0102724110003   78TH ST E        NaN        NaN       NaN  BLOOMINGTON   \n",
       "053-0102724110004  METRO PKWY        NaN        NaN       NaN  BLOOMINGTON   \n",
       "053-0102724110005  METRO PKWY        NaN        NaN       NaN  BLOOMINGTON   \n",
       "053-0102724110006    METRO DR        NaN        NaN       NaN  BLOOMINGTON   \n",
       "053-0102724110008  METRO PKWY        NaN        NaN       NaN  BLOOMINGTON   \n",
       "\n",
       "                   ... GREEN_ACRE OPEN_SPACE AG_PRESERV AGPRE_ENRD AGPRE_EXPD  \\\n",
       "PIN                ...                                                          \n",
       "053-0102724110003  ...          N          N          N        NaN        NaN   \n",
       "053-0102724110004  ...          N          N          N        NaN        NaN   \n",
       "053-0102724110005  ...          N          N          N        NaN        NaN   \n",
       "053-0102724110006  ...          N          N          N        NaN        NaN   \n",
       "053-0102724110008  ...          N          N          N        NaN        NaN   \n",
       "\n",
       "                  PARC_CODE  TORRENS  Shape_Le_1   Shape_Area  \\\n",
       "PIN                                                             \n",
       "053-0102724110003         0        T  395.645416  7416.662441   \n",
       "053-0102724110004         0        T  422.894044  7676.706709   \n",
       "053-0102724110005         0        B  426.557685  6399.614332   \n",
       "053-0102724110006         0        B  421.502025  7184.857320   \n",
       "053-0102724110008         0        T  422.989308  7681.696608   \n",
       "\n",
       "                                                            geometry  \n",
       "PIN                                                                   \n",
       "053-0102724110003  POLYGON ((481758.6119 4967622.9012, 481758.294...  \n",
       "053-0102724110004  POLYGON ((481827.7642 4967621.7611, 481887.776...  \n",
       "053-0102724110005  POLYGON ((481827.4471 4967582.1543, 481827.105...  \n",
       "053-0102724110006  POLYGON ((481799.116 4967582.6214, 481798.5232...  \n",
       "053-0102724110008  POLYGON ((482035.2701 4967618.3399, 482035.265...  \n",
       "\n",
       "[5 rows x 69 columns]"
      ]
     },
     "execution_count": 8,
     "metadata": {},
     "output_type": "execute_result"
    }
   ],
   "source": [
    "hennepin.head()"
   ]
  },
  {
   "cell_type": "markdown",
   "metadata": {},
   "source": [
    "``convert_to_categorical()`` failed at ``geometry`` column. Let's try again without this column."
   ]
  },
  {
   "cell_type": "code",
   "execution_count": 9,
   "metadata": {},
   "outputs": [],
   "source": [
    "column_list = list(hennepin.select_dtypes(include=['object']).columns.values)\n",
    "column_list.remove('geometry')\n",
    "hennepin = convert_to_categorical(hennepin, column_list)"
   ]
  },
  {
   "cell_type": "code",
   "execution_count": 10,
   "metadata": {},
   "outputs": [
    {
     "name": "stdout",
     "output_type": "stream",
     "text": [
      "<class 'geopandas.geodataframe.GeoDataFrame'>\n",
      "Index: 427762 entries, 053-0102724110003 to 053-3612123410019\n",
      "Data columns (total 69 columns):\n",
      "Shape_Leng    427762 non-null float64\n",
      "COUNTY_ID     427762 non-null category\n",
      "BLDG_NUM      427762 non-null category\n",
      "PREFIX_DIR    0 non-null category\n",
      "PREFIXTYPE    0 non-null category\n",
      "STREETNAME    427762 non-null category\n",
      "STREETTYPE    0 non-null category\n",
      "SUFFIX_DIR    0 non-null category\n",
      "UNIT_INFO     51470 non-null category\n",
      "CITY          427762 non-null category\n",
      "CITY_USPS     414475 non-null category\n",
      "ZIP           427762 non-null category\n",
      "ZIP4          0 non-null category\n",
      "PLAT_NAME     426333 non-null category\n",
      "BLOCK         305269 non-null category\n",
      "LOT           290705 non-null category\n",
      "ACRES_POLY    427762 non-null float64\n",
      "ACRES_DEED    427762 non-null float64\n",
      "USE1_DESC     426337 non-null category\n",
      "USE2_DESC     4398 non-null category\n",
      "USE3_DESC     752 non-null category\n",
      "USE4_DESC     207 non-null category\n",
      "MULTI_USES    0 non-null category\n",
      "LANDMARK      0 non-null category\n",
      "OWNER_NAME    426336 non-null object\n",
      "OWNER_MORE    0 non-null category\n",
      "OWN_ADD_L1    0 non-null category\n",
      "OWN_ADD_L2    0 non-null category\n",
      "OWN_ADD_L3    0 non-null category\n",
      "TAX_NAME      426337 non-null object\n",
      "TAX_ADD_L1    426189 non-null object\n",
      "TAX_ADD_L2    426071 non-null category\n",
      "TAX_ADD_L3    62165 non-null category\n",
      "HOMESTEAD     426337 non-null category\n",
      "EMV_LAND      427762 non-null float64\n",
      "EMV_BLDG      427762 non-null float64\n",
      "EMV_TOTAL     427762 non-null float64\n",
      "TAX_CAPAC     427762 non-null float64\n",
      "TOTAL_TAX     427762 non-null float64\n",
      "SPEC_ASSES    427762 non-null float64\n",
      "TAX_EXEMPT    427762 non-null category\n",
      "XUSE1_DESC    17641 non-null category\n",
      "XUSE2_DESC    1341 non-null category\n",
      "XUSE3_DESC    250 non-null category\n",
      "XUSE4_DESC    36 non-null category\n",
      "DWELL_TYPE    0 non-null category\n",
      "HOME_STYLE    152400 non-null category\n",
      "FIN_SQ_FT     427762 non-null float64\n",
      "GARAGE        157514 non-null category\n",
      "GARAGESQFT    157514 non-null category\n",
      "BASEMENT      111420 non-null category\n",
      "HEATING       156532 non-null category\n",
      "COOLING       157514 non-null category\n",
      "YEAR_BUILT    427762 non-null int64\n",
      "NUM_UNITS     0 non-null category\n",
      "SALE_DATE     331140 non-null category\n",
      "SALE_VALUE    427762 non-null float64\n",
      "SCHOOL_DST    426337 non-null category\n",
      "WSHD_DIST     350447 non-null category\n",
      "GREEN_ACRE    427762 non-null category\n",
      "OPEN_SPACE    427762 non-null category\n",
      "AG_PRESERV    427762 non-null category\n",
      "AGPRE_ENRD    0 non-null category\n",
      "AGPRE_EXPD    0 non-null category\n",
      "PARC_CODE     427762 non-null int64\n",
      "TORRENS       427762 non-null category\n",
      "Shape_Le_1    427762 non-null float64\n",
      "Shape_Area    427762 non-null float64\n",
      "geometry      427762 non-null object\n",
      "dtypes: category(50), float64(13), int64(2), object(4)\n",
      "memory usage: 96.1+ MB\n"
     ]
    }
   ],
   "source": [
    "hennepin.info()"
   ]
  },
  {
   "cell_type": "markdown",
   "metadata": {},
   "source": [
    "That more than halved our memory consumption!"
   ]
  },
  {
   "cell_type": "code",
   "execution_count": null,
   "metadata": {},
   "outputs": [],
   "source": []
  }
 ],
 "metadata": {
  "kernelspec": {
   "display_name": "Python 3",
   "language": "python",
   "name": "python3"
  },
  "language_info": {
   "codemirror_mode": {
    "name": "ipython",
    "version": 3
   },
   "file_extension": ".py",
   "mimetype": "text/x-python",
   "name": "python",
   "nbconvert_exporter": "python",
   "pygments_lexer": "ipython3",
   "version": "3.6.8"
  }
 },
 "nbformat": 4,
 "nbformat_minor": 2
}
